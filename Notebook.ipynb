{
  "metadata": {
    "kernelspec": {
      "name": "python",
      "display_name": "Python (Pyodide)",
      "language": "python"
    },
    "language_info": {
      "codemirror_mode": {
        "name": "python",
        "version": 3
      },
      "file_extension": ".py",
      "mimetype": "text/x-python",
      "name": "python",
      "nbconvert_exporter": "python",
      "pygments_lexer": "ipython3",
      "version": "3.8"
    }
  },
  "nbformat_minor": 4,
  "nbformat": 4,
  "cells": [
    {
      "cell_type": "code",
      "source": "import pandas as pd\nschool = pd.read_csv(\"schools.csv\")",
      "metadata": {
        "trusted": true
      },
      "outputs": [],
      "execution_count": 1
    },
    {
      "cell_type": "markdown",
      "source": "## Which NYC schools have the best math results ?\nThe best math results are at least 80% of the *maximum possible score of 800* for math.\nSave your results in a pandas DataFrame called best_math_schools, including \"school_name\" and \"average_math\" columns, sorted by \"average_math\" in descending order.",
      "metadata": {}
    },
    {
      "cell_type": "code",
      "source": "best_math_schools = school[[\"school_name\", \"average_math\"]]\nbest_math_schools = best_math_schools[80.0 <= best_math_schools[\"average_math\"] / 800 * 100]\nbest_math_schools = best_math_schools.sort_values(\"average_math\", ascending=False)\nbest_math_schools = pd.DataFrame(best_math_schools)\nprint(best_math_schools)",
      "metadata": {
        "trusted": true
      },
      "outputs": [
        {
          "name": "stdout",
          "text": "                                           school_name  average_math\n88                              Stuyvesant High School           754\n170                       Bronx High School of Science           714\n93                 Staten Island Technical High School           711\n365  Queens High School for the Sciences at York Co...           701\n68   High School for Mathematics, Science, and Engi...           683\n280                     Brooklyn Technical High School           682\n333                        Townsend Harris High School           680\n174  High School of American Studies at Lehman College           669\n0    New Explorations into Science, Technology and ...           657\n45                       Eleanor Roosevelt High School           641\n",
          "output_type": "stream"
        }
      ],
      "execution_count": 2
    },
    {
      "cell_type": "markdown",
      "source": "## What are the top 10 performing schools based on the combined SAT scores ?\nSave your results as a pandas DataFrame called top_10_schools containing the \"school_name\" and a new column named \"total_SAT\", with results ordered by \"total_SAT\" in descending order.",
      "metadata": {}
    },
    {
      "cell_type": "code",
      "source": "school[\"total_SAT\"] = school[\"average_writing\"] + school[\"average_reading\"] + school[\"average_math\"]\ntop_10_schools = school[[\"school_name\", \"total_SAT\"]].sort_values(\"total_SAT\", ascending=False)\ntop_10_schools = pd.DataFrame(top_10_schools.iloc[0:10])\nprint(top_10_schools)",
      "metadata": {
        "trusted": true
      },
      "outputs": [
        {
          "name": "stdout",
          "text": "                                           school_name  total_SAT\n88                              Stuyvesant High School       2144\n170                       Bronx High School of Science       2041\n93                 Staten Island Technical High School       2041\n174  High School of American Studies at Lehman College       2013\n333                        Townsend Harris High School       1981\n365  Queens High School for the Sciences at York Co...       1947\n5                       Bard High School Early College       1914\n280                     Brooklyn Technical High School       1896\n45                       Eleanor Roosevelt High School       1889\n68   High School for Mathematics, Science, and Engi...       1889\n",
          "output_type": "stream"
        }
      ],
      "execution_count": 3
    },
    {
      "cell_type": "markdown",
      "source": "## Which single borough has the largest standard deviation in the combined SAT score ?\nSave your results as a pandas DataFrame called largest_std_dev.\nThe DataFrame should contain one row, with:\n\"borough\" - the name of the NYC borough with the largest standard deviation of \"total_SAT\".\n\"num_schools\" - the number of schools in the borough.\n\"average_SAT\" - the mean of \"total_SAT\".\n\"std_SAT\" - the standard deviation of \"total_SAT\".\nRound all numeric values to two decimal places.",
      "metadata": {}
    },
    {
      "cell_type": "code",
      "source": "largest_std_dev = school.groupby(\"borough\")[\"total_SAT\"].agg([\"count\", \"mean\", \"std\"]).round()\nlargest_std_dev = largest_std_dev[largest_std_dev[\"std\"] == largest_std_dev[\"std\"].max()]\nlargest_std_dev = largest_std_dev.rename(columns={\"count\": \"num_schools\", \"mean\": \"average_SAT\", \"std\": \"std_SAT\"})\nprint(largest_std_dev)",
      "metadata": {
        "trusted": true
      },
      "outputs": [
        {
          "name": "stdout",
          "text": "           num_schools  average_SAT  std_SAT\nborough                                     \nManhattan           89       1340.0    230.0\n",
          "output_type": "stream"
        }
      ],
      "execution_count": 4
    }
  ]
}